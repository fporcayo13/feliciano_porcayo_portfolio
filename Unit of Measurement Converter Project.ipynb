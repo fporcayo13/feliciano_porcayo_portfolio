{
 "cells": [
  {
   "cell_type": "markdown",
   "id": "3f446d26-38f5-4352-aa04-6b3bde2955ca",
   "metadata": {},
   "source": [
    "Unit of Measurement Converter Project"
   ]
  },
  {
   "cell_type": "code",
   "execution_count": 2,
   "id": "d5b16203-ae98-4bcf-a732-7e2d13179fa7",
   "metadata": {},
   "outputs": [
    {
     "name": "stdin",
     "output_type": "stream",
     "text": [
      "Enter Starting Unit of Measurement(inches ,feet, yards):  inches\n",
      "Enter Unit of Measurement to Convert to(inches ,feet, yards):  feet\n",
      "Enter Starting Measurment in Inches:  24\n",
      "Enter Starting Measurment in Feet:  3\n",
      "Enter Starting Measurment in Yards:  1\n"
     ]
    }
   ],
   "source": [
    "convert_from = input(\"Enter Starting Unit of Measurement(inches ,feet, yards): \")\n",
    "\n",
    "convert_to = input(\"Enter Unit of Measurement to Convert to(inches ,feet, yards): \")\n",
    "\n",
    "number_of_inches = input(\"Enter Starting Measurment in Inches: \")\n",
    "\n",
    "number_of_feet = input(\"Enter Starting Measurment in Feet: \")\n",
    "\n",
    "number_of_yards = input(\"Enter Starting Measurment in Yards: \")"
   ]
  },
  {
   "cell_type": "code",
   "execution_count": 33,
   "id": "a5c47fa3-632c-401a-9b96-cbaf49053ce0",
   "metadata": {},
   "outputs": [
    {
     "name": "stdin",
     "output_type": "stream",
     "text": [
      "Enter Starting Unit of Measurement(inches ,feet, yards):  feet\n",
      "Enter Unit of Measurement to Convert to(inches ,feet, yards):  inches\n",
      "Enter Starting Measurment in Feet:  10\n"
     ]
    },
    {
     "name": "stdout",
     "output_type": "stream",
     "text": [
      "Result: 10 Feet = 120 Inches\n"
     ]
    }
   ],
   "source": [
    "convert_from = input(\"Enter Starting Unit of Measurement(inches ,feet, yards): \")\n",
    "\n",
    "convert_to = input(\"Enter Unit of Measurement to Convert to(inches ,feet, yards): \")\n",
    "\n",
    "if convert_from.lower() in [\"inches\", \"in\", \"inches\"]:\n",
    "    number_of_inches = int(input(\"Enter Starting Measurment in Inches: \"))\n",
    "    if convert_to.lower() in [\"feet\",\"foot\",\"ft\"]:\n",
    "        print(\"Result: \" + str(number_of_inches) + \" Inches = \" + str(round(number_of_inches / 12,2)) + \" Feet\")\n",
    "    elif convert_to.lower() in [\"yards\",\"yard\",\"yds\",\"yd\"]:\n",
    "        print(\"Result: \" + str(number_of_inches) + \" Inches = \" + str(round(number_of_inches / 36,2)) + \" Yards\")\n",
    "    else:\n",
    "        print(\"Please Enter either Inches, Feet or Yards\")\n",
    "elif convert_from.lower() in [\"feet\",\"foot\",\"ft\"]:\n",
    "    number_of_feet = int(input(\"Enter Starting Measurment in Feet: \"))\n",
    "    if convert_to.lower() in [\"inches\", \"in\", \"inches\"]:\n",
    "        print(\"Result: \" + str(number_of_feet) + \" Feet = \" + str(round(number_of_feet * 12)) + \" Inches\")\n",
    "    elif convert_to.lower() in [\"yards\",\"yard\",\"yds\",\"yd\"]:\n",
    "        print(\"Result: \" + str(number_of_feet) + \" Feet = \" + str(round(number_of_feet / 3,2)) + \" Yards\")\n",
    "    else:\n",
    "        print(\"Please Enter either Inches, Feet or Yards\")\n",
    "elif convert_from.lower() in [\"yards\",\"yard\",\"yds\",\"yd\"]:\n",
    "    number_of_yards = int(input(\"Enter Starting Measurment in Yards: \"))\n",
    "    if convert_to.lower() in [\"inches\", \"in\", \"inches\"]:\n",
    "        print(\"Result: \" + str(number_of_yards) + \" Yards = \" + str(round(number_of_yards * 36)) + \" Inches\")\n",
    "    elif convert_to.lower() in [\"feet\",\"foot\",\"ft\"]:\n",
    "        print(\"Result: \" + str(number_of_yards) + \" Yards = \" + str(round(number_of_yards * 3)) + \" Feet\")\n",
    "    else:\n",
    "        print(\"Please Enter either Inches, Feet or Yards\")\n",
    "else:\n",
    "    print(\"Please Enter either Inches, Feet or Yards\")"
   ]
  },
  {
   "cell_type": "code",
   "execution_count": null,
   "id": "d5a90ac9-f7a0-44d9-bda0-d16061d8ac6b",
   "metadata": {},
   "outputs": [],
   "source": []
  }
 ],
 "metadata": {
  "kernelspec": {
   "display_name": "Python 3 (ipykernel)",
   "language": "python",
   "name": "python3"
  },
  "language_info": {
   "codemirror_mode": {
    "name": "ipython",
    "version": 3
   },
   "file_extension": ".py",
   "mimetype": "text/x-python",
   "name": "python",
   "nbconvert_exporter": "python",
   "pygments_lexer": "ipython3",
   "version": "3.12.7"
  }
 },
 "nbformat": 4,
 "nbformat_minor": 5
}
