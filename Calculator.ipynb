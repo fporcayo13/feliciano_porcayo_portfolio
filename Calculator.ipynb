{
 "cells": [
  {
   "cell_type": "markdown",
   "id": "0b375fff-1078-47f5-9852-4548a1857161",
   "metadata": {},
   "source": [
    "Calculator"
   ]
  },
  {
   "cell_type": "code",
   "execution_count": 2,
   "id": "2691d6bf-c738-466c-b6e7-8b015004c7ff",
   "metadata": {},
   "outputs": [],
   "source": [
    "def add(x,y):\n",
    "    return x + y \n",
    "\n",
    "def subtract(x,y):\n",
    "    return x - y\n",
    "\n",
    "def multiply(x,y):\n",
    "    return x * y\n",
    "\n",
    "def divide(x,y):\n",
    "    return x / y "
   ]
  },
  {
   "cell_type": "code",
   "execution_count": 4,
   "id": "45cb5e6c-5b73-4238-9d2c-0cf838a2a36d",
   "metadata": {},
   "outputs": [
    {
     "name": "stdin",
     "output_type": "stream",
     "text": [
      "Enter Choice: (A, S, M ,D) A\n",
      "Enter First Number:  2\n",
      "Enter Second Number:  4\n"
     ]
    }
   ],
   "source": [
    "choice = input('Enter Choice: (A, S, M ,D)')\n",
    "\n",
    "num1 = float(input('Enter First Number: '))\n",
    "\n",
    "num2 = float(input('Enter Second Number: '))"
   ]
  },
  {
   "cell_type": "code",
   "execution_count": 26,
   "id": "324b3a51-eaf4-49d6-a463-6dc4c62ac346",
   "metadata": {},
   "outputs": [
    {
     "name": "stdout",
     "output_type": "stream",
     "text": [
      "Enter A for Addition.\n",
      "Enter S for Subtraction.\n",
      "Enter M for Multiplication.\n",
      "Enter D for Division,\n"
     ]
    },
    {
     "name": "stdin",
     "output_type": "stream",
     "text": [
      "Enter Choice: (A, S, M ,D):  a\n",
      "Enter First Number:  10\n",
      "Enter Second Number:  20\n"
     ]
    },
    {
     "name": "stdout",
     "output_type": "stream",
     "text": [
      "Result:  10.0 + 20.0 = 30.0\n"
     ]
    }
   ],
   "source": [
    "print(\"Enter A for Addition.\")\n",
    "print(\"Enter S for Subtraction.\")\n",
    "print(\"Enter M for Multiplication.\")\n",
    "print(\"Enter D for Division,\")\n",
    "\n",
    "\n",
    "choice = input('Enter Choice: (A, S, M ,D): ')\n",
    "\n",
    "\n",
    "if choice.upper() in ('A','ADD','ADDITION','S','SUBTRACT','SUBTRACTION','M','MULTIPLY','MULTIPLICATION','D','DIVIDE','DIVISION'):\n",
    "    num1 = float(input('Enter First Number: '))\n",
    "    num2 = float(input('Enter Second Number: '))\n",
    "\n",
    "    if choice.upper() in ('A','ADD','ADDITION'):\n",
    "        print('Result: ', num1, '+', num2, '=', add(num1,num2))\n",
    "    \n",
    "    elif choice.upper() in ('S','SUBTRACT','SUBTRACTION'):\n",
    "        print('Result: ', num1, '-', num2, '=', subtract(num1,num2))\n",
    "\n",
    "    elif choice.upper() in ('M','MULTIPLY','MULTIPLICATION'):\n",
    "        print('Result: ', num1, '*', num2, '=', multiply(num1,num2))\n",
    "\n",
    "    elif choice.upper() in ('D','DIVIDE','DIVISION'):\n",
    "        print('Result: ', num1, '/', num2, '=', divide(num1,num2))\n",
    "\n",
    "else:\n",
    "    print('Please input a correct choice.')"
   ]
  },
  {
   "cell_type": "code",
   "execution_count": 28,
   "id": "b95e04df-8cd3-42f4-8983-fe9d17cfd638",
   "metadata": {},
   "outputs": [
    {
     "name": "stdout",
     "output_type": "stream",
     "text": [
      "Enter A for Addition.\n",
      "Enter S for Subtraction.\n",
      "Enter M for Multiplication.\n",
      "Enter D for Division,\n"
     ]
    },
    {
     "name": "stdin",
     "output_type": "stream",
     "text": [
      "Enter Choice: (A, S, M ,D):  a\n",
      "Enter First Number:  20\n",
      "Enter Second Number:  40\n"
     ]
    },
    {
     "name": "stdout",
     "output_type": "stream",
     "text": [
      "Result:  20.0 + 40.0 = 60.0\n"
     ]
    },
    {
     "name": "stdin",
     "output_type": "stream",
     "text": [
      "Want to do another calculation? (yes/no?):  yes\n",
      "Enter Choice: (A, S, M ,D):  m\n",
      "Enter First Number:  10\n",
      "Enter Second Number:  10\n"
     ]
    },
    {
     "name": "stdout",
     "output_type": "stream",
     "text": [
      "Result:  10.0 * 10.0 = 100.0\n"
     ]
    },
    {
     "name": "stdin",
     "output_type": "stream",
     "text": [
      "Want to do another calculation? (yes/no?):  yes\n",
      "Enter Choice: (A, S, M ,D):  100\n"
     ]
    },
    {
     "name": "stdout",
     "output_type": "stream",
     "text": [
      "Please input a correct choice.\n"
     ]
    },
    {
     "name": "stdin",
     "output_type": "stream",
     "text": [
      "Want to do another calculation? (yes/no?):  yes\n",
      "Enter Choice: (A, S, M ,D):  s\n",
      "Enter First Number:  100\n",
      "Enter Second Number:  50\n"
     ]
    },
    {
     "name": "stdout",
     "output_type": "stream",
     "text": [
      "Result:  100.0 - 50.0 = 50.0\n"
     ]
    },
    {
     "name": "stdin",
     "output_type": "stream",
     "text": [
      "Want to do another calculation? (yes/no?):  no\n"
     ]
    }
   ],
   "source": [
    "print(\"Enter A for Addition.\")\n",
    "print(\"Enter S for Subtraction.\")\n",
    "print(\"Enter M for Multiplication.\")\n",
    "print(\"Enter D for Division,\")\n",
    "\n",
    "\n",
    "while True:\n",
    "    choice = input('Enter Choice: (A, S, M ,D): ')\n",
    "    \n",
    "    if choice.upper() in ('A','ADD','ADDITION','S','SUBTRACT','SUBTRACTION','M','MULTIPLY','MULTIPLICATION','D','DIVIDE','DIVISION'):\n",
    "        num1 = float(input('Enter First Number: '))\n",
    "        num2 = float(input('Enter Second Number: '))\n",
    "    \n",
    "        if choice.upper() in ('A','ADD','ADDITION'):\n",
    "            print('Result: ', num1, '+', num2, '=', add(num1,num2))\n",
    "        \n",
    "        elif choice.upper() in ('S','SUBTRACT','SUBTRACTION'):\n",
    "            print('Result: ', num1, '-', num2, '=', subtract(num1,num2))\n",
    "    \n",
    "        elif choice.upper() in ('M','MULTIPLY','MULTIPLICATION'):\n",
    "            print('Result: ', num1, '*', num2, '=', multiply(num1,num2))\n",
    "    \n",
    "        elif choice.upper() in ('D','DIVIDE','DIVISION'):\n",
    "            print('Result: ', num1, '/', num2, '=', divide(num1,num2))\n",
    "    \n",
    "    else:\n",
    "        print('Please input a correct choice.')\n",
    "\n",
    "    next_calculation = input('Want to do another calculation? (yes/no?): ')\n",
    "    if next_calculation.lower() in ('no','n','nope'):\n",
    "        break"
   ]
  },
  {
   "cell_type": "code",
   "execution_count": null,
   "id": "2e76413e-bb9a-4b0e-84c2-1a1641046835",
   "metadata": {},
   "outputs": [],
   "source": []
  }
 ],
 "metadata": {
  "kernelspec": {
   "display_name": "Python 3 (ipykernel)",
   "language": "python",
   "name": "python3"
  },
  "language_info": {
   "codemirror_mode": {
    "name": "ipython",
    "version": 3
   },
   "file_extension": ".py",
   "mimetype": "text/x-python",
   "name": "python",
   "nbconvert_exporter": "python",
   "pygments_lexer": "ipython3",
   "version": "3.12.7"
  }
 },
 "nbformat": 4,
 "nbformat_minor": 5
}
